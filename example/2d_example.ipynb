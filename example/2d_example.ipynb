{
 "cells": [
  {
   "attachments": {},
   "cell_type": "markdown",
   "metadata": {},
   "source": [
    "# Adaptive grid sampler tutorial \n",
    "### August George, Zuckerman Lab, OHSU, 2023\n",
    "\n",
    "This method iterates through an increasing data batch size until all the data is included (i.e. 'data tempering'). \n",
    "\n",
    "After initialization, an adaptive multi-grid approach is used to evaluate the log-likelihood surface."
   ]
  },
  {
   "attachments": {},
   "cell_type": "markdown",
   "metadata": {},
   "source": [
    "We will use a a toy model to test the adaptive grid sampler (in `toy_model.py`):\n",
    "\n",
    "$y=a\\sin(bx)+ax\\sin(bx^2)$ where $a=5$, $b=0.1$, and $t=0,0.05,...,5$ with Gaussian noise added: $y_{obs} = y_{true} + \\epsilon$ where $\\epsilon \\sim N(0,1)$\n",
    "\n",
    "We will also use a Normal log-likelihood function. \n",
    "\n",
    "Log-likelihood functions are expected to have the form f(x,args) where x = parameters, args = [data, additional arguments] "
   ]
  },
  {
   "cell_type": "code",
   "execution_count": 6,
   "metadata": {},
   "outputs": [
    {
     "data": {
      "image/png": "[encoded data removed]",
      "text/plain": [
       "<Figure size 720x504 with 1 Axes>"
      ]
     },
     "metadata": {
      "needs_background": "light"
     },
     "output_type": "display_data"
    }
   ],
   "source": [
    "import numpy as np\n",
    "import scipy as sp\n",
    "import matplotlib.pyplot as plt\n",
    "import sys \n",
    "import os\n",
    "\n",
    "sys.path.insert(0, os.path.abspath(os.path.join(os.getcwd(), '..')))\n",
    "from pyGridSampler import grid_sampler as gs\n",
    "from pyGridSampler import grid_tools as gt\n",
    "import toy_model  # seperate file containing log-likelihood and model functions\n",
    "\n",
    "\n",
    "# setup toy model\n",
    "np.random.seed(0)\n",
    "x1_true = 5\n",
    "x2_true = 0.1\n",
    "sigma_true = 1\n",
    "t_full = np.linspace(0, 5, 100)\n",
    "x_truths = [x1_true, x2_true]\n",
    "\n",
    "y_true = toy_model.f(x1_true,x2_true,t_full)\n",
    "y_obs = y_true + np.random.normal(0,sigma_true,np.size(y_true))\n",
    "log_like_func = toy_model.log_likelihood\n",
    "\n",
    "# plot synthetic data\n",
    "plt.figure(figsize=(10,7))\n",
    "plt.plot(t_full, y_true, label='y_true')\n",
    "plt.plot(t_full, y_obs, 'o', label='y_obs')\n",
    "plt.title('toy 2D model')\n",
    "plt.ylabel('y')\n",
    "plt.xlabel('t')\n",
    "plt.legend()\n",
    "plt.show()"
   ]
  },
  {
   "attachments": {},
   "cell_type": "markdown",
   "metadata": {},
   "source": [
    "For the grid sampler using data-tempering, we need to create a data tempering list of lists containing increasingly more data. \n",
    "\n",
    "Each iteration of the algorithm includes an additional data point - i.e. the next list in the data tempering list. \n",
    "\n",
    "For this example we increment the data, but other strategies could be used (e.g. first data point, last data point, mid point, etc)\n",
    "\n",
    "Example: tempering_list = [[y1], [y1,y2], ... [y1,y2,...yN]]\n",
    "\n",
    "Additional log-likelihood arguments can be packed into this list as well."
   ]
  },
  {
   "cell_type": "code",
   "execution_count": 2,
   "metadata": {},
   "outputs": [],
   "source": [
    "def create_tempering_list(log_like_args):\n",
    "    # creates a list of arguments for the log-likelihood function at each tempering stage\n",
    "    y_obs = log_like_args[0]\n",
    "    t_full = log_like_args[1]\n",
    "    n_data_points = len(y_obs)\n",
    "\n",
    "    # get a list of data indices for data tempering - e.g. [[0], [0,1], [0,1,2]]\n",
    "    # each list index corresponds to a data tempering stage\n",
    "    idx_sublist = gt.get_sorted_idx_sublists(y_obs)\n",
    "\n",
    "    # get y_obs and t lists for each data tempering stage\n",
    "    # e.g. t_tempering_list = [t[0], t[0,1], t[0,1,2]]\n",
    "    t_sublist = gt.get_sorted_sublists_from_idx(idx_sublist, t_full)\n",
    "    y_obs_sublist = gt.get_sorted_sublists_from_idx(idx_sublist, y_obs)\n",
    "\n",
    "    # at a given tempering stage n, this list contains data[:n], t[:n] for the log-likelihood calculation\n",
    "    args_tempering_list = [[y_obs_sublist[i], t_sublist[i]] for i in range(n_data_points)]\n",
    "    return args_tempering_list\n",
    "\n",
    "args_list = create_tempering_list([y_obs, t_full])"
   ]
  },
  {
   "attachments": {},
   "cell_type": "markdown",
   "metadata": {},
   "source": [
    "Then we make a set of parameter boundaries and list of direction to add neighboring points during the expansion stage. \n",
    "\n",
    "For example, [[1,1],] would add a single point for each existing grid point in the (1,1) direction\n",
    "\n",
    "Finally we set the initial conditions and hyperparameters for the sampler, and then run the sampler"
   ]
  },
  {
   "cell_type": "code",
   "execution_count": 3,
   "metadata": {},
   "outputs": [
    {
     "name": "stderr",
     "output_type": "stream",
     "text": [
      "Intialization: data_size=2, grid_resolution=23, n_grid_points=529, ESS=507.33340773401375: : 13it [00:02,  4.44it/s]\n",
      "Processing: data_size=100, n_grid_points=4748, ESS=1276.0242986214855: 100%|██████████| 98/98 [09:34<00:00,  5.86s/it]\n"
     ]
    }
   ],
   "source": [
    "# configure sampler parameters\n",
    "x_bounds = [(0,10), (0,2)]\n",
    "x_shifts = [[1,1], [-1,1], [1,-1], [-1,-1], [1,0], [-1,0], [0,1], [0,-1]]\n",
    "\n",
    "\n",
    "init_data_size = 2 # use 2 data points initially\n",
    "init_grid_resolution = 10 # n points per parameter -> total grid size =  n^n_dim points\n",
    "ess_min = 500  # target effective size threshold. larger ess_min --> denser grid \n",
    "delta = 0.01 # keep smallest set of grid points whose weights sum to 1-delta. larger delta --> remove more gridpoints\n",
    "\n",
    "\n",
    "# create sampler class\n",
    "sampler = gs.GridSampler(log_like_func,args_list,y_obs, x_bounds, x_shifts)\n",
    "\n",
    "# initialize and run sampler\n",
    "grid_resolution, data_size, grid, spacing, log_likelihoods, rel_prob, weights, ess  = sampler.initialize_and_sample(init_grid_resolution, init_data_size, ess_min, delta, n_processes=4, max_iter=100)\n"
   ]
  },
  {
   "attachments": {},
   "cell_type": "markdown",
   "metadata": {},
   "source": [
    "once the samples are collected we can plot the marginals, 2d histogram, and compare to the brute force grid evaluation"
   ]
  },
  {
   "cell_type": "code",
   "execution_count": 9,
   "metadata": {},
   "outputs": [
    {
     "name": "stdout",
     "output_type": "stream",
     "text": [
      "[]\n"
     ]
    }
   ],
   "source": [
    "def plot_grid(sampler, i):\n",
    "    grid_i = sampler.output[i]\n",
    "\n",
    "    # 1d marginals distribution\n",
    "    fig = gt.plot_grid_marginals(grid, x_bounds, x_truths)\n",
    "\n",
    "    plt.figure(figsize=(10,7))\n",
    "    # 2d distribution\n",
    "    x = grid[:, 0]\n",
    "    y = grid[:, 1]\n",
    "    plt.hist2d(x, y, bins=(200,200), cmap='plasma', density=True, range=(x_bounds))\n",
    "    plt.colorbar(label='density')\n",
    "\n",
    "    # Set axis labels\n",
    "    plt.xlabel(r'$x_1$')\n",
    "    plt.ylabel(r'$x_2$')\n",
    "\n",
    "    # Show the plot\n",
    "    plt.show()\n",
    "\n",
    "print(sampler.output)"
   ]
  },
  {
   "cell_type": "code",
   "execution_count": null,
   "metadata": {},
   "outputs": [],
   "source": []
  },
  {
   "cell_type": "code",
   "execution_count": null,
   "metadata": {},
   "outputs": [],
   "source": [
    "import numpy as np\n",
    "import matplotlib.pyplot as plt\n",
    "\n",
    "\n",
    "def f(a, b, x):\n",
    "    return a * np.sin(b * x) + a * x * np.sin(b * x**2)\n",
    "\n",
    "\n",
    "\n",
    "def log_likelihood(params, args):\n",
    "    a, b = params\n",
    "    y_obs, x = args\n",
    "    y_pred = f(a, b, x)\n",
    "\n",
    "    # Assuming Gaussian likelihood with a known standard deviation\n",
    "    sigma = 1\n",
    "    n = len(y_obs)\n",
    "    ll = -0.5 * n * np.log(2 * np.pi * sigma**2) - (1 / (2 * sigma**2)) * np.sum((y_obs - y_pred)**2)\n",
    "    return ll\n",
    "\n",
    "for i in [2,5,10,25,50,100]:\n",
    "    np.random.seed(0)\n",
    "    # Set the true values of a and b\n",
    "    a_true = 5\n",
    "    b_true = 0.1\n",
    "    scale = 1\n",
    "    # Define the range of x values\n",
    "    x_full = np.linspace(0, 5, 100)\n",
    "  \n",
    "    x = x_full[:i]\n",
    "    # Generate the true function values\n",
    "    y_true = f(a_true, b_true, x)\n",
    "\n",
    "    # Add correlated noise to the true function values to generate the observed data\n",
    "    y_obs = y_true + np.random.normal(0,scale,np.size(y_true))\n",
    "\n",
    "    a_vals = np.linspace(0, 10, 200)\n",
    "    b_vals = np.linspace(0, 2, 200)\n",
    "    A, B = np.meshgrid(a_vals, b_vals)\n",
    "    log_likelihood_grid = np.zeros((len(a_vals), len(b_vals)))\n",
    "    for i, a in enumerate(a_vals):\n",
    "        for j, b in enumerate(b_vals):\n",
    "            params = [a, b]\n",
    "            args = [y_obs, x]\n",
    "            log_likelihood_grid[j, i] = log_likelihood(params, args)\n",
    "\n",
    "    # Scale log_likelihood_grid values between 0 and 1\n",
    "    if np.ptp(log_likelihood_grid) == 0:\n",
    "        log_likelihood_grid_scaled = np.zeros_like(log_likelihood_grid)\n",
    "    else:\n",
    "        log_likelihood_grid_scaled = (log_likelihood_grid - np.min(log_likelihood_grid)) / (np.max(log_likelihood_grid) - np.min(log_likelihood_grid))\n",
    " \n",
    "  \n",
    "    likelihood_grid = np.exp(log_likelihood_grid)\n",
    "\n",
    "    if np.ptp(likelihood_grid) == 0:\n",
    "        likelihood_grid_scaled = np.ones_like(likelihood_grid)\n",
    "    else:\n",
    "        likelihood_grid_scaled = (likelihood_grid - np.min(likelihood_grid))/np.ptp(likelihood_grid)\n",
    "\n",
    "    # Create a heatmap of the scaled log-likelihood values\n",
    "    plt.figure(figsize=(10,7))\n",
    "    plt.pcolormesh(A, B, likelihood_grid_scaled, cmap='jet')\n",
    "    plt.xlabel(r'$x_1$')\n",
    "    plt.ylabel(r'$x_2$')\n",
    "    plt.title(f'scaled likelihood surface: {np.size(x)} data points')\n",
    "    plt.colorbar()\n",
    "    plt.show()\n",
    "\n",
    "    # Compute the marginal distributions by summing along one axis\n",
    "    marginal_A = np.sum(likelihood_grid, axis=0)  # Sum along the rows (axis=0)\n",
    "    marginal_B = np.sum(likelihood_grid, axis=1)  # Sum along the columns (axis=1)\n",
    "\n",
    "    # Normalize the marginals so that their integral is 1\n",
    "    marginal_A /= np.sum(marginal_A)\n",
    "    marginal_B /= np.sum(marginal_B)\n",
    "\n",
    "    # Compute the bin width for histograms\n",
    "    bin_width_A = a_vals[1] - a_vals[0]\n",
    "    bin_width_B = b_vals[1] - b_vals[0]\n",
    "\n",
    "    # Plot the histograms\n",
    "    fig, (ax1, ax2) = plt.subplots(nrows=1, ncols=2, figsize=(10, 7))\n",
    "\n",
    "    ax1.hist(a_vals, bins=len(a_vals), weights=marginal_A, density=True, alpha=0.75, histtype='step', color='black')\n",
    "    ax1.set_xlabel(r'$x_1$')\n",
    "    ax1.set_ylabel('density')\n",
    "    ax1.set_title(r'$x_1$ distribution')\n",
    "\n",
    "    ax2.hist(b_vals, bins=len(b_vals), weights=marginal_B, density=True, alpha=0.75, histtype='step', color='black')\n",
    "    ax2.set_xlabel(r'$x_2$')\n",
    "    ax2.set_ylabel('density')\n",
    "    ax2.set_title(r'$x_2$ distribution')\n",
    "\n",
    "    plt.tight_layout()\n",
    "    plt.show()\n",
    "\n"
   ]
  },
  {
   "cell_type": "code",
   "execution_count": null,
   "metadata": {},
   "outputs": [],
   "source": []
  },
  {
   "cell_type": "code",
   "execution_count": null,
   "metadata": {},
   "outputs": [],
   "source": []
  },
  {
   "cell_type": "code",
   "execution_count": null,
   "metadata": {},
   "outputs": [],
   "source": []
  }
 ],
 "metadata": {
  "kernelspec": {
   "display_name": "pyPOCO_v4",
   "language": "python",
   "name": "python3"
  },
  "language_info": {
   "codemirror_mode": {
    "name": "ipython",
    "version": 3
   },
   "file_extension": ".py",
   "mimetype": "text/x-python",
   "name": "python",
   "nbconvert_exporter": "python",
   "pygments_lexer": "ipython3",
   "version": "3.10.10"
  },
  "orig_nbformat": 4
 },
 "nbformat": 4,
 "nbformat_minor": 2
}
